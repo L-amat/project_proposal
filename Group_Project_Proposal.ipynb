{
  "nbformat": 4,
  "nbformat_minor": 0,
  "metadata": {
    "colab": {
      "name": "Group Project Proposal",
      "provenance": [],
      "authorship_tag": "ABX9TyOksn3j/PEbUD/UAMyXLZfy",
      "include_colab_link": true
    },
    "kernelspec": {
      "name": "python3",
      "display_name": "Python 3"
    },
    "language_info": {
      "name": "python"
    }
  },
  "cells": [
    {
      "cell_type": "markdown",
      "metadata": {
        "id": "view-in-github",
        "colab_type": "text"
      },
      "source": [
        "<a href=\"https://colab.research.google.com/github/Xlynu/project_proposal/blob/main/Group_Project_Proposal.ipynb\" target=\"_parent\"><img src=\"https://colab.research.google.com/assets/colab-badge.svg\" alt=\"Open In Colab\"/></a>"
      ]
    },
    {
      "cell_type": "markdown",
      "metadata": {
        "id": "vKYm47l7xVhh"
      },
      "source": [
        "# Title"
      ]
    },
    {
      "cell_type": "markdown",
      "metadata": {
        "id": "STDYl5qKxaZH"
      },
      "source": [
        "# Introduction:\n",
        "* Provide some relevant background information on the topic so that someone unfamiliar with it will be prepared to understand the rest of your proposal\n",
        "* Clearly state the question you will try to answer with your project\n",
        "* Identify and describe the dataset that will be used to answer the question"
      ]
    },
    {
      "cell_type": "markdown",
      "metadata": {
        "id": "VxNz5mzJx6SP"
      },
      "source": [
        "# Preliminary exploratory data analysis:\n",
        "\n",
        "\n",
        "*   Demonstrate that the dataset can be read from the web into R \n",
        "*   Clean and wrangle your data into a tidy format\n",
        "*   Using only training data, summarize the data in at least one table (this is exploratory data analysis). An example of a useful table could be one that reports the number of observations in each class, the means of the predictor variables you plan to use in your analysis and how many rows have missing data. \n",
        "*   Using only training data, visualize the data with at least one plot relevant to the analysis you plan to do (this is exploratory data analysis). An example of a useful visualization could be one that compares the distributions of each of the predictor variables you plan to use in your analysis.\n",
        "\n",
        "\n",
        "\n"
      ]
    },
    {
      "cell_type": "markdown",
      "metadata": {
        "id": "n1DaTFjkySf3"
      },
      "source": [
        "# Methods:\n",
        "* Explain how you will conduct either your data analysis and which variables/columns you will use. Note - you do not need to use all variables/columns that exist in the raw data set. In fact, that's often not a good idea. For each variable think: is this a useful variable for prediction?\n",
        "* Describe at least one way that you will visualize the results"
      ]
    },
    {
      "cell_type": "markdown",
      "metadata": {
        "id": "79VBS1kgzE44"
      },
      "source": [
        "# Expected outcomes and significance:\n",
        "\n",
        "* What do you expect to find?\n",
        "* What impact could such findings have?\n",
        "* What future questions could this lead to?\n",
        "\n"
      ]
    }
  ]
}