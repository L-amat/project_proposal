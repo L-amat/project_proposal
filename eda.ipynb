{
 "cells": [
  {
   "cell_type": "markdown",
   "metadata": {},
   "source": [
    "Title:"
   ]
  },
  {
   "cell_type": "code",
   "execution_count": null,
   "metadata": {},
   "outputs": [],
   "source": [
    "library(tidyverse)\n",
    "library(repr)\n",
    "library(readxl)\n",
    "library(RPostgres)\n",
    "library(DBI)\n",
    "library(readr)\n",
    "library(dbplyr)"
   ]
  },
  {
   "cell_type": "markdown",
   "metadata": {},
   "source": [
    "Introduction:\n",
    "- Provide some relevant background information on the topic so that someone unfamiliar with it will be prepared to understand the rest of your proposal\n",
    "- Clearly state the question you will try to answer with your project\n",
    "- Identify and describe the dataset that will be used to answer the question\n"
   ]
  },
  {
   "cell_type": "markdown",
   "metadata": {},
   "source": [
    "Preliminary exploratory data analysis:\n",
    "- Demonstrate that the dataset can be read from the web into R \n",
    "- Clean and wrangle your data into a tidy format\n",
    "- Using only training data, summarize the data in at least one table (this is exploratory data analysis). An example of a useful table could be one that reports the number of observations in each class, the means of the predictor variables you plan to use in your analysis and how many rows have missing data. \n",
    "- Using only training data, visualize the data with at least one plot relevant to the analysis you plan to do (this is exploratory data analysis). An example of a useful visualization could be one that compares the distributions of each of the predictor variables you plan to use in your analysis."
   ]
  },
  {
   "cell_type": "code",
   "execution_count": null,
   "metadata": {},
   "outputs": [],
   "source": [
    "# con_fb_data <- dbConnect(RSQLite::SQLite(), \"https://archive.ics.uci.edu/ml/machine-learning-databases/00368/Facebook_metrics.zip\")\n",
    "# con_fb_data\n",
    "\n",
    "# fb_db <- tbl(con_fb_data, \"dataset_Facebook.csv\")\n",
    "# fb_db\n",
    "\n",
    "?download.file"
   ]
  },
  {
   "cell_type": "code",
   "execution_count": null,
   "metadata": {},
   "outputs": [],
   "source": [
    "download.file(\"https://archive.ics.uci.edu/ml/machine-learning-databases/00368/Facebook_metrics.zip\",\n",
    "              \"data/dataset_Facebook.csv\",\n",
    "              method = \"w\",\n",
    "              quiet = FALSE,\n",
    "                         mode = \"wb\",\n",
    "              cacheOK = TRUE,\n",
    "              extra = getOption(\"download.file.extra\"),\n",
    "              headers = NULL)\n",
    "glimpse(fb_data)\n",
    "# data <- read_delim(\"data/dataset_Facebook.csv\",\n",
    "# #                   sub = \"byte\",\n",
    "# #                    nrows=10,\n",
    "# #                    header = FALSE,\n",
    "# #                    quote=\"\\\"\",\n",
    "#                    delim =\";\")\n",
    "# data"
   ]
  },
  {
   "cell_type": "code",
   "execution_count": null,
   "metadata": {},
   "outputs": [],
   "source": [
    "url <- \"https://archive.ics.uci.edu/ml/machine-learning-databases/00368/Facebook_metrics.zip\"\n",
    "setwd(file.path(\"d:/\"))\n",
    "local <- file.path(\"data\", \"demodt.data\")\n",
    "download.file(url, local)\n",
    "my.data <- read.table(local, sep = \",\")\n",
    "# str(my.data)\n",
    "head(my.data)"
   ]
  },
  {
   "cell_type": "code",
   "execution_count": null,
   "metadata": {},
   "outputs": [],
   "source": [
    "download.file(\"https://archive.ics.uci.edu/ml/machine-learning-databases/00368/Facebook_metrics.zip\",   #download file\n",
    "              \"data/dataset_Facebook.csv\")\n",
    "useBytes = TRUE                                                                                         #solve warning: input string not available in this locale\n",
    "\n",
    "unzip(\"data/dataset_Facebook.csv\", files = NULL, list = FALSE, overwrite = TRUE,                        #unzip dataset\n",
    "      junkpaths = FALSE, exdir = \".\", unzip = \"internal\",\n",
    "      setTimes = FALSE)\n",
    "\n",
    "fb_data <- read_delim(\"data/dataset_Facebook.csv\",\n",
    "                     delim = \";\")                                                     #read data\n",
    "head(fb_data)\n"
   ]
  },
  {
   "cell_type": "markdown",
   "metadata": {},
   "source": [
    "Methods:\n",
    "- Explain how you will conduct either your data analysis and which variables/columns you will use. Note - you do not need to use all variables/columns that exist in the raw data set. In fact, that's often not a good idea. For each variable think: is this a useful variable for prediction?\n",
    "- Describe at least one way that you will visualize the results"
   ]
  },
  {
   "cell_type": "code",
   "execution_count": null,
   "metadata": {},
   "outputs": [],
   "source": [
    "?unzip"
   ]
  },
  {
   "cell_type": "markdown",
   "metadata": {},
   "source": [
    "Expected outcomes and significance:\n",
    "- What do you expect to find?\n",
    "- What impact could such findings have?\n",
    "- What future questions could this lead to?"
   ]
  }
 ],
 "metadata": {
  "kernelspec": {
   "display_name": "R",
   "language": "R",
   "name": "ir"
  },
  "language_info": {
   "codemirror_mode": "r",
   "file_extension": ".r",
   "mimetype": "text/x-r-source",
   "name": "R",
   "pygments_lexer": "r",
   "version": "4.0.0"
  }
 },
 "nbformat": 4,
 "nbformat_minor": 4
}
